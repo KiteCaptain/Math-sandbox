{
 "cells": [
  {
   "attachments": {},
   "cell_type": "markdown",
   "metadata": {},
   "source": [
    "# Python Math Practise"
   ]
  },
  {
   "cell_type": "code",
   "execution_count": 18,
   "metadata": {},
   "outputs": [],
   "source": [
    "import time"
   ]
  },
  {
   "cell_type": "code",
   "execution_count": 2,
   "metadata": {},
   "outputs": [
    {
     "name": "stdout",
     "output_type": "stream",
     "text": [
      "I love math\n"
     ]
    }
   ],
   "source": [
    "print(\"I love math\")"
   ]
  },
  {
   "attachments": {},
   "cell_type": "markdown",
   "metadata": {},
   "source": [
    "##### Add to an even number"
   ]
  },
  {
   "cell_type": "code",
   "execution_count": 39,
   "metadata": {},
   "outputs": [
    {
     "name": "stdout",
     "output_type": "stream",
     "text": [
      "8 + 1 = 9\n",
      "7 + 2 = 9\n",
      "6 + 3 = 9\n",
      "5 + 4 = 9\n",
      "-0.0022656917572021484\n"
     ]
    }
   ],
   "source": [
    "startTime = time.time()\n",
    "def addTo(n):\n",
    "    l = (n//2) + 1\n",
    "    for i in range(1, l):\n",
    "        print(f\"{n-i} + {i} = {n}\")\n",
    "    print(startTime - time.time() )\n",
    "        \n",
    "addTo(9)"
   ]
  },
  {
   "cell_type": "code",
   "execution_count": 35,
   "metadata": {},
   "outputs": [
    {
     "name": "stdout",
     "output_type": "stream",
     "text": [
      "8 + 1 = 9\n",
      "7 + 2 = 9\n",
      "6 + 3 = 9\n",
      "5 + 4 = 9\n",
      "-0.002141714096069336\n"
     ]
    }
   ],
   "source": [
    "# More efficient code\n",
    "startTime = time.time()\n",
    "def addTo(n):\n",
    "    l = (n // 2) + 1\n",
    "    output = []\n",
    "    for i in range(1, l):\n",
    "        output.append(f\"{n-i} + {i} = {n}\")\n",
    "    print(\"\\n\".join(output))\n",
    "    print(startTime - time.time() )\n",
    "    \n",
    "\n",
    "addTo(9)"
   ]
  }
 ],
 "metadata": {
  "kernelspec": {
   "display_name": "Python 3",
   "language": "python",
   "name": "python3"
  },
  "language_info": {
   "codemirror_mode": {
    "name": "ipython",
    "version": 3
   },
   "file_extension": ".py",
   "mimetype": "text/x-python",
   "name": "python",
   "nbconvert_exporter": "python",
   "pygments_lexer": "ipython3",
   "version": "3.11.2"
  },
  "orig_nbformat": 4
 },
 "nbformat": 4,
 "nbformat_minor": 2
}
